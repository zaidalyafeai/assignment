{
  "nbformat": 4,
  "nbformat_minor": 0,
  "metadata": {
    "colab": {
      "name": "4chan assignment  @ Spectrum .ipynb",
      "provenance": [],
      "collapsed_sections": []
    },
    "kernelspec": {
      "name": "python3",
      "display_name": "Python 3"
    },
    "language_info": {
      "name": "python"
    }
  },
  "cells": [
    {
      "cell_type": "code",
      "metadata": {
        "colab": {
          "base_uri": "https://localhost:8080/"
        },
        "id": "bMYLGVPGrGt5",
        "outputId": "5bc173a9-b141-4b89-bb43-ad2c2bd9ee83"
      },
      "source": [
        "!wget https://raw.githubusercontent.com/zaidalyafeai/assignment/main/catalogs.zip\n",
        "!unzip catalogs.zip"
      ],
      "execution_count": 1,
      "outputs": [
        {
          "output_type": "stream",
          "text": [
            "--2021-04-11 11:24:38--  https://raw.githubusercontent.com/zaidalyafeai/assignment/main/catalogs.zip\n",
            "Resolving raw.githubusercontent.com (raw.githubusercontent.com)... 185.199.108.133, 185.199.109.133, 185.199.110.133, ...\n",
            "Connecting to raw.githubusercontent.com (raw.githubusercontent.com)|185.199.108.133|:443... connected.\n",
            "HTTP request sent, awaiting response... 200 OK\n",
            "Length: 377695 (369K) [application/zip]\n",
            "Saving to: ‘catalogs.zip’\n",
            "\n",
            "catalogs.zip        100%[===================>] 368.84K  --.-KB/s    in 0.05s   \n",
            "\n",
            "2021-04-11 11:24:38 (7.96 MB/s) - ‘catalogs.zip’ saved [377695/377695]\n",
            "\n",
            "Archive:  catalogs.zip\n",
            "   creating: catalogs/\n",
            "  inflating: catalogs/tv_catalog.json  \n",
            "  inflating: catalogs/lit_catalog.json  \n",
            "  inflating: catalogs/ck_catalog.json  \n",
            "  inflating: catalogs/g_catalog.json  \n"
          ],
          "name": "stdout"
        }
      ]
    },
    {
      "cell_type": "code",
      "metadata": {
        "colab": {
          "base_uri": "https://localhost:8080/"
        },
        "id": "CQHJqVf44z-J",
        "outputId": "dd9b93ef-ec66-4b15-d453-cad5b8c4bb16"
      },
      "source": [
        "import nltk\n",
        "import urllib.request\n",
        "import os \n",
        "import json \n",
        "import re\n",
        "import nltk\n",
        "from nltk.corpus import stopwords\n",
        "from string import punctuation\n",
        "\n",
        "nltk.download('punkt')\n",
        "nltk.download('stopwords')"
      ],
      "execution_count": 2,
      "outputs": [
        {
          "output_type": "stream",
          "text": [
            "[nltk_data] Downloading package punkt to /root/nltk_data...\n",
            "[nltk_data]   Unzipping tokenizers/punkt.zip.\n",
            "[nltk_data] Downloading package stopwords to /root/nltk_data...\n",
            "[nltk_data]   Unzipping corpora/stopwords.zip.\n"
          ],
          "name": "stdout"
        },
        {
          "output_type": "execute_result",
          "data": {
            "text/plain": [
              "True"
            ]
          },
          "metadata": {
            "tags": []
          },
          "execution_count": 2
        }
      ]
    },
    {
      "cell_type": "markdown",
      "metadata": {
        "id": "lIJd0jSg8rXj"
      },
      "source": [
        "## Extraction/Cleaning"
      ]
    },
    {
      "cell_type": "markdown",
      "metadata": {
        "id": "pvEvQ0pFwsPS"
      },
      "source": [
        "Create a class for extracting and cleaning threads per channel"
      ]
    },
    {
      "cell_type": "code",
      "metadata": {
        "id": "4Pnb9ed2wTbz"
      },
      "source": [
        "class Channel:\n",
        "  def __init__(self, name, max_threads = 100):\n",
        "    '''\n",
        "    Process each channel and extract different attributes\n",
        "    '''\n",
        "    url = f'https://a.4cdn.org/{name}/catalog.json '\n",
        "    out_path = f'catalogs/{name}_catalog.json'\n",
        "    if os.path.exists(out_path):\n",
        "      pass\n",
        "    else:\n",
        "      urllib.request.urlretrieve(url, filename=out_path)\n",
        "    with open(out_path, 'r') as f:\n",
        "      self.catalog = json.loads(f.read())\n",
        "    \n",
        "    self.attrs = ['now', 'images', 'md5', 'filename', 'last_replies', 'h', 'name', 'w', 'imagelimit', 'ext', 'com', 'semantic_url', 'tn_w', 'fsize', 'tim', 'replies', 'omitted_posts', 'trip', 'bumplimit', 'time', 'tn_h', 'omitted_images', 'closed', 'resto', 'capcode', 'last_modified', 'sub', 'no', 'custom_spoiler', 'sticky']\n",
        "    self.special_elements = ['&gt', '039', 'thread', 'class', 'post', 'quote']\n",
        "    self.puncts = list(punctuation) +[\"’\", \"`\",\"...\", \"''\"]\n",
        "    self.max_threads = max_threads \n",
        "  def get_threads(self):\n",
        "    '''\n",
        "    Extract all the threads of a given channel \n",
        "    '''\n",
        "    threads = []\n",
        "    for page in self.catalog :\n",
        "      for thread in page['threads']:\n",
        "        if len(threads) >= self.max_threads:\n",
        "          return threads\n",
        "        reply = {}\n",
        "        for attr in self.attrs:\n",
        "          if attr in thread:\n",
        "            content = thread[attr]\n",
        "            if attr == 'com':\n",
        "              content = self._process_com(content)\n",
        "            reply[attr] = content\n",
        "          else:\n",
        "            reply[attr] = -1\n",
        "        threads.append(reply) \n",
        "    return threads\n",
        "\n",
        "  def _process_com(self, com):\n",
        "    '''\n",
        "    preprocess a commentary \n",
        "    '''\n",
        "    com = self._remove_links(com)\n",
        "    com = self._remove_html_elments(com)\n",
        "    com = self._remove_special_elements(com)\n",
        "    com = self._remove_puncts(com)\n",
        "    return com.lower()\n",
        "\n",
        "  def _remove_puncts(self, text):\n",
        "    '''\n",
        "    remove punctuations \n",
        "    '''\n",
        "    for el in self.puncts:\n",
        "      text = text.replace(el, '')\n",
        "    return text\n",
        "\n",
        "  def _remove_html_elments(self, text):\n",
        "    '''\n",
        "    remove html elements\n",
        "    '''\n",
        "    cleanr = re.compile(\"<.*?>\")\n",
        "    text = re.sub(cleanr, \"\", text)\n",
        "    return text\n",
        "  \n",
        "  def _remove_special_elements(self, text):\n",
        "    '''\n",
        "    remove some extra elements \n",
        "    '''\n",
        "    for el in self.special_elements:\n",
        "      text = text.replace(el, '')\n",
        "    return text\n",
        "    \n",
        "\n",
        "  def _remove_links(self, text):\n",
        "    '''\n",
        "    remove links \n",
        "    '''\n",
        "    text = re.sub(r\"http\\S+\", \" \", text, flags=re.MULTILINE)\n",
        "    return text"
      ],
      "execution_count": 3,
      "outputs": []
    },
    {
      "cell_type": "markdown",
      "metadata": {
        "id": "E94t_Y50wp7T"
      },
      "source": [
        "Pull up threads"
      ]
    },
    {
      "cell_type": "code",
      "metadata": {
        "id": "8Z83mu5swaf7",
        "colab": {
          "base_uri": "https://localhost:8080/"
        },
        "outputId": "5195a799-c6af-4fa3-c0dc-6be17ef9116f"
      },
      "source": [
        "channels = {'g':[], 'tv':[], 'ck':[], 'lit':[]}\n",
        "channel_names = {'g':'Technology', 'tv':'TV & Film', 'ck':'Food & Cooking', 'lit':'Literature'}\n",
        "\n",
        "## extract threads and print num of threads per channel\n",
        "for c in channels:\n",
        "  channels[c] = Channel(c).get_threads()\n",
        "  print(channel_names[c], len(channels[c]))"
      ],
      "execution_count": 4,
      "outputs": [
        {
          "output_type": "stream",
          "text": [
            "Technology 100\n",
            "TV & Film 100\n",
            "Food & Cooking 100\n",
            "Literature 100\n"
          ],
          "name": "stdout"
        }
      ]
    },
    {
      "cell_type": "markdown",
      "metadata": {
        "id": "k1QT2BkQ0acL"
      },
      "source": [
        "sample entry"
      ]
    },
    {
      "cell_type": "code",
      "metadata": {
        "colab": {
          "base_uri": "https://localhost:8080/"
        },
        "id": "rqgfWGFB-cHp",
        "outputId": "7a2945fd-79cd-45bb-c342-1dc609bc5be5"
      },
      "source": [
        "channels['g'][0]"
      ],
      "execution_count": 5,
      "outputs": [
        {
          "output_type": "execute_result",
          "data": {
            "text/plain": [
              "{'bumplimit': -1,\n",
              " 'capcode': 'mod',\n",
              " 'closed': 1,\n",
              " 'com': 'this board is for the discussion of technology and related topics  \\nreminder that instigating or participating in flamebrand wars will result in a ban\\ntech support s should be ed to wsr \\ncryptocurrency discussion belongs on biz  to use the code tag bookend your body of code with co\\xadde and co\\xadde  the g wiki a href ',\n",
              " 'custom_spoiler': -1,\n",
              " 'ext': '.png',\n",
              " 'filename': 'sticky btfo',\n",
              " 'fsize': 310766,\n",
              " 'h': 420,\n",
              " 'imagelimit': -1,\n",
              " 'images': 3,\n",
              " 'last_modified': 1608861974,\n",
              " 'last_replies': [{'capcode': 'mod',\n",
              "   'ext': '.png',\n",
              "   'filename': 'RMS',\n",
              "   'fsize': 299699,\n",
              "   'h': 399,\n",
              "   'md5': 'cEeDnXfLWSsu3+A/HIZkuw==',\n",
              "   'name': 'Anonymous',\n",
              "   'no': 76759448,\n",
              "   'now': '07/13/20(Mon)20:33:58',\n",
              "   'resto': 76759434,\n",
              "   'tim': 1594686838367,\n",
              "   'time': 1594686838,\n",
              "   'tn_h': 110,\n",
              "   'tn_w': 125,\n",
              "   'w': 450}],\n",
              " 'md5': 'fXlzSIjoI0KSQVKti3l+Eg==',\n",
              " 'name': 'Anonymous',\n",
              " 'no': 76759434,\n",
              " 'now': '07/13/20(Mon)20:33:00',\n",
              " 'omitted_images': 2,\n",
              " 'omitted_posts': 2,\n",
              " 'replies': 3,\n",
              " 'resto': 0,\n",
              " 'semantic_url': 'this-board-is-for-the-discussion-of-technology',\n",
              " 'sticky': 1,\n",
              " 'sub': -1,\n",
              " 'tim': 1594686780709,\n",
              " 'time': 1594686780,\n",
              " 'tn_h': 196,\n",
              " 'tn_w': 250,\n",
              " 'trip': -1,\n",
              " 'w': 535}"
            ]
          },
          "metadata": {
            "tags": []
          },
          "execution_count": 5
        }
      ]
    },
    {
      "cell_type": "markdown",
      "metadata": {
        "id": "YR5oyIGY8k8c"
      },
      "source": [
        "## Exploratory Analysis"
      ]
    },
    {
      "cell_type": "markdown",
      "metadata": {
        "id": "mN1kwGk90EIl"
      },
      "source": [
        "Calculate frequency of each word in the comments "
      ]
    },
    {
      "cell_type": "code",
      "metadata": {
        "id": "zbP5fMZdyAa7"
      },
      "source": [
        "from collections import Counter\n",
        "from nltk.tokenize import word_tokenize\n",
        "\n",
        "def get_freqs(channels, remove_stop_words = True, attr = 'com'):\n",
        "  '''\n",
        "  get the frequency distribution of words in a given attribute\n",
        "  '''\n",
        "  stop_words = stopwords.words('english')\n",
        "  special_chars = ['']\n",
        "  freqs = {c:[] for c in channels}\n",
        "  for c in channels:\n",
        "    freq = Counter()\n",
        "    threads = channels[c]\n",
        "    for thread in threads:\n",
        "      if thread[attr] == -1:\n",
        "        continue\n",
        "      if attr == 'com':\n",
        "        for word in word_tokenize(thread[attr]):\n",
        "          if word not in stop_words and remove_stop_words:\n",
        "            freq[word] += 1\n",
        "      else:\n",
        "        freq[thread[attr]] += 1\n",
        "    freqs[c] = freq\n",
        "  return freqs "
      ],
      "execution_count": 6,
      "outputs": []
    },
    {
      "cell_type": "markdown",
      "metadata": {
        "id": "HqhDyqa237i4"
      },
      "source": [
        "plot frequency of words"
      ]
    },
    {
      "cell_type": "code",
      "metadata": {
        "colab": {
          "base_uri": "https://localhost:8080/",
          "height": 1000
        },
        "id": "mAbJ12aV0G8Q",
        "outputId": "2433bf64-c439-4f79-b68d-38712f87b988"
      },
      "source": [
        "import seaborn as sns\n",
        "import matplotlib.pyplot as plt\n",
        "\n",
        "freqs = get_freqs(channels, attr = 'com')\n",
        "\n",
        "for c in channels:\n",
        "  print(channel_names[c])\n",
        "  d = freqs[c].most_common(20)\n",
        "  keys = [key[0] for key in d]\n",
        "  vals = [key[1] for key in d]\n",
        "  g = sns.barplot(x=keys, y=vals)\n",
        "  g.set_xticklabels(g.get_xticklabels(), rotation=90)\n",
        "  plt.show()"
      ],
      "execution_count": 7,
      "outputs": [
        {
          "output_type": "stream",
          "text": [
            "Technology\n"
          ],
          "name": "stdout"
        },
        {
          "output_type": "display_data",
          "data": {
            "image/png": "[encoded data removed]",
            "text/plain": [
              "<Figure size 432x288 with 1 Axes>"
            ]
          },
          "metadata": {
            "tags": [],
            "needs_background": "light"
          }
        },
        {
          "output_type": "stream",
          "text": [
            "TV & Film\n"
          ],
          "name": "stdout"
        },
        {
          "output_type": "display_data",
          "data": {
            "image/png": "[encoded data removed]",
            "text/plain": [
              "<Figure size 432x288 with 1 Axes>"
            ]
          },
          "metadata": {
            "tags": [],
            "needs_background": "light"
          }
        },
        {
          "output_type": "stream",
          "text": [
            "Food & Cooking\n"
          ],
          "name": "stdout"
        },
        {
          "output_type": "display_data",
          "data": {
            "image/png": "[encoded data removed]",
            "text/plain": [
              "<Figure size 432x288 with 1 Axes>"
            ]
          },
          "metadata": {
            "tags": [],
            "needs_background": "light"
          }
        },
        {
          "output_type": "stream",
          "text": [
            "Literature\n"
          ],
          "name": "stdout"
        },
        {
          "output_type": "display_data",
          "data": {
            "image/png": "[encoded data removed]",
            "text/plain": [
              "<Figure size 432x288 with 1 Axes>"
            ]
          },
          "metadata": {
            "tags": [],
            "needs_background": "light"
          }
        }
      ]
    },
    {
      "cell_type": "markdown",
      "metadata": {
        "id": "tB8nRZ2a4BQO"
      },
      "source": [
        "Show the number of closed threads per channel"
      ]
    },
    {
      "cell_type": "code",
      "metadata": {
        "colab": {
          "base_uri": "https://localhost:8080/"
        },
        "id": "ssQqKfNl3-9j",
        "outputId": "2b0ffdd2-144e-48b3-9445-2b5c214d24bd"
      },
      "source": [
        "freqs = get_freqs(channels, attr = 'closed')\n",
        "for c in channels:\n",
        "  \n",
        "  d = freqs[c].most_common(2)\n",
        "  num_closed_threads = 0\n",
        "  if len(d) >= 1:\n",
        "    num_closed_threads = d[0][1]\n",
        "    \n",
        "  print()\n",
        "  print(f'{channel_names[c]} has {num_closed_threads} closed threads ')"
      ],
      "execution_count": 8,
      "outputs": [
        {
          "output_type": "stream",
          "text": [
            "\n",
            "Technology has 1 closed threads \n",
            "\n",
            "TV & Film has 0 closed threads \n",
            "\n",
            "Food & Cooking has 0 closed threads \n",
            "\n",
            "Literature has 1 closed threads \n"
          ],
          "name": "stdout"
        }
      ]
    },
    {
      "cell_type": "markdown",
      "metadata": {
        "id": "ShhfBa1HGRTi"
      },
      "source": [
        "Show distirubtion of posts by time"
      ]
    },
    {
      "cell_type": "code",
      "metadata": {
        "id": "HNOZmxxk_VGj"
      },
      "source": [
        "from datetime import datetime\n",
        "\n",
        "freqs = get_freqs(channels, attr = 'now')\n",
        "dates_per_channel = {c:[] for c in channels}\n",
        "for c in channels:\n",
        "  \n",
        "  d = freqs[c]\n",
        "  dates = []\n",
        "  for el in d:\n",
        "    # extract date and convert ot format\n",
        "    date = el.split('(')[0]\n",
        "    year = date.split('/')[-1]\n",
        "    date = date.replace(year, '20'+year)\n",
        "    time = el.split(')')[1]\n",
        "    dt_obj = datetime.strptime(date+' '+time,\n",
        "                           '%m/%d/%Y %H:%M:%S')\n",
        "    dates.append(dt_obj)\n",
        "  dates_per_channel[c] = dates"
      ],
      "execution_count": 9,
      "outputs": []
    },
    {
      "cell_type": "code",
      "metadata": {
        "colab": {
          "base_uri": "https://localhost:8080/",
          "height": 1000
        },
        "id": "m9Weu5O5ECDo",
        "outputId": "a2acbecc-c959-4c56-f9f9-74ec3970c60f"
      },
      "source": [
        "import matplotlib\n",
        "colors = ['b', 'g', 'r', 'y']\n",
        "for i, c in enumerate(dates_per_channel):\n",
        "  dates = matplotlib.dates.date2num(dates_per_channel[c])\n",
        "  plt.xticks(rotation=70)\n",
        "  plt.plot_date(dates, [1] *len(dates), color = colors[i])\n",
        "  plt.title(f'Distirbution of {channel_names[c]} dates')\n",
        "  plt.show()"
      ],
      "execution_count": 12,
      "outputs": [
        {
          "output_type": "display_data",
          "data": {
            "image/png": "[encoded data removed]",
            "text/plain": [
              "<Figure size 432x288 with 1 Axes>"
            ]
          },
          "metadata": {
            "tags": [],
            "needs_background": "light"
          }
        },
        {
          "output_type": "display_data",
          "data": {
            "image/png": "[encoded data removed]",
            "text/plain": [
              "<Figure size 432x288 with 1 Axes>"
            ]
          },
          "metadata": {
            "tags": [],
            "needs_background": "light"
          }
        },
        {
          "output_type": "display_data",
          "data": {
            "image/png": "[encoded data removed]",
            "text/plain": [
              "<Figure size 432x288 with 1 Axes>"
            ]
          },
          "metadata": {
            "tags": [],
            "needs_background": "light"
          }
        },
        {
          "output_type": "display_data",
          "data": {
            "image/png": "[encoded data removed]",
            "text/plain": [
              "<Figure size 432x288 with 1 Axes>"
            ]
          },
          "metadata": {
            "tags": [],
            "needs_background": "light"
          }
        }
      ]
    },
    {
      "cell_type": "markdown",
      "metadata": {
        "id": "m7_Vghzf5c76"
      },
      "source": [
        "### Data Encoding"
      ]
    },
    {
      "cell_type": "markdown",
      "metadata": {
        "id": "Z4RBmnW1JECa"
      },
      "source": [
        "Collect data and labels"
      ]
    },
    {
      "cell_type": "code",
      "metadata": {
        "id": "AVzZS1pX5PEe"
      },
      "source": [
        "data = []\n",
        "labels = []\n",
        "\n",
        "for i, c in enumerate(channels):\n",
        "  threads = channels[c]\n",
        "  for thread in threads:\n",
        "      data.append(thread)\n",
        "      labels.append(i)"
      ],
      "execution_count": 13,
      "outputs": []
    },
    {
      "cell_type": "markdown",
      "metadata": {
        "id": "7LDzo8lbJLa-"
      },
      "source": [
        "Encode data using BoW"
      ]
    },
    {
      "cell_type": "code",
      "metadata": {
        "id": "OEpyJZlw6S1I"
      },
      "source": [
        "class Encoder:\n",
        "\n",
        "  def __init__(self, data):\n",
        "    '''\n",
        "    encode a set of comments using BoW algorithm \n",
        "    '''\n",
        "    self.vocab = []\n",
        "    self.data = ''\n",
        "    stop_words = stopwords.words('english')\n",
        "    for thread in data:\n",
        "      com = thread['com']\n",
        "      if com == -1:\n",
        "        continue\n",
        "      for word in word_tokenize(com):\n",
        "        if word not in stop_words:\n",
        "          self.vocab.append(word)\n",
        "    self.vocab = list(set(self.vocab))\n",
        "    \n",
        "  def encode(self, data):\n",
        "    '''\n",
        "    encode a given data using the vocab \n",
        "    '''\n",
        "    encodings = []\n",
        "    for thread in data:\n",
        "      com = thread['com']\n",
        "      enc = [0] * len(self.vocab)\n",
        "      if com != -1:\n",
        "        for word in word_tokenize(com):\n",
        "          if word in self.vocab:\n",
        "            idx = self.vocab.index(word)\n",
        "            enc[idx] += 1\n",
        "      encodings.append(enc)\n",
        "    return encodings"
      ],
      "execution_count": 14,
      "outputs": []
    },
    {
      "cell_type": "code",
      "metadata": {
        "id": "l7OlhkJl7XAD"
      },
      "source": [
        "bow_encoder = Encoder(data)\n",
        "X = bow_encoder.encode(data)\n",
        "y = labels"
      ],
      "execution_count": 15,
      "outputs": []
    },
    {
      "cell_type": "markdown",
      "metadata": {
        "id": "VP-xuCXqJPvX"
      },
      "source": [
        "Encode data into training and testing"
      ]
    },
    {
      "cell_type": "markdown",
      "metadata": {
        "id": "8MWDOpWiZqIz"
      },
      "source": [
        "## Discriminative Analysis"
      ]
    },
    {
      "cell_type": "markdown",
      "metadata": {
        "id": "qnCz8JcViYET"
      },
      "source": [
        "We use an Treeclassifier for freature selection"
      ]
    },
    {
      "cell_type": "code",
      "metadata": {
        "id": "7_G48mLebkZX"
      },
      "source": [
        "from sklearn.ensemble import ExtraTreesClassifier\n",
        "from sklearn.feature_selection import SelectFromModel\n",
        "clf = ExtraTreesClassifier(n_estimators=50)\n",
        "clf = clf.fit(X, y)\n",
        "model = SelectFromModel(clf, prefit=True)\n",
        "X_new = model.transform(X)"
      ],
      "execution_count": 16,
      "outputs": []
    },
    {
      "cell_type": "markdown",
      "metadata": {
        "id": "t1J565QyinFG"
      },
      "source": [
        "Extract the most discriminative features"
      ]
    },
    {
      "cell_type": "code",
      "metadata": {
        "colab": {
          "base_uri": "https://localhost:8080/"
        },
        "id": "jSCeUCHbgsfI",
        "outputId": "9320b136-ac20-4230-8458-116fc323f198"
      },
      "source": [
        "for i, word in enumerate(bow_encoder.vocab):\n",
        "  score = clf.feature_importances_[i]\n",
        "  if score > 0.005:\n",
        "    print(word, score) "
      ],
      "execution_count": 17,
      "outputs": [
        {
          "output_type": "stream",
          "text": [
            "desktop 0.00608148017036507\n",
            "eat 0.008954264273227963\n",
            "reading 0.015081450245566761\n",
            "book 0.009928978740301977\n",
            "books 0.024075430861415677\n",
            "use 0.007979980494176772\n",
            "write 0.006060711587031674\n",
            "food 0.010502209038468774\n",
            "lit 0.014389951925247618\n",
            "movie 0.011725116609779276\n",
            "ck 0.011296229524360414\n",
            "software 0.006261312361324492\n",
            "tv 0.005747259508330609\n",
            "cooking 0.006047689745461633\n",
            "philosophy 0.005427032972355205\n",
            "g 0.005199076375226041\n",
            "read 0.0129649407702196\n",
            "technology 0.005931883486766837\n",
            "linux 0.007515350544468727\n",
            "c 0.005259363517598889\n",
            "really 0.006620229371154792\n"
          ],
          "name": "stdout"
        }
      ]
    },
    {
      "cell_type": "markdown",
      "metadata": {
        "id": "3JSFaVEGbY1O"
      },
      "source": [
        "split the data"
      ]
    },
    {
      "cell_type": "code",
      "metadata": {
        "id": "jnseCHtv7cJy"
      },
      "source": [
        "from sklearn.model_selection import train_test_split\n",
        "xtrain, xtest, ytrain, ytest = train_test_split(X_new, y, train_size = 0.95, random_state = 0)"
      ],
      "execution_count": 18,
      "outputs": []
    },
    {
      "cell_type": "markdown",
      "metadata": {
        "id": "rcEGx5amJYPg"
      },
      "source": [
        "Train the model"
      ]
    },
    {
      "cell_type": "code",
      "metadata": {
        "colab": {
          "base_uri": "https://localhost:8080/"
        },
        "id": "-zLzNIW57hhF",
        "outputId": "0b9eb7fc-e81a-4c09-c0d9-2a51d14d5725"
      },
      "source": [
        "from sklearn.svm import SVC\n",
        "from sklearn.metrics import accuracy_score\n",
        "clf = SVC(C=100.0, kernel='rbf').fit(xtrain, ytrain)\n",
        "ypred = clf.predict(xtest)\n",
        "\n",
        "print('accuracy ', accuracy_score(ytest, ypred))"
      ],
      "execution_count": 19,
      "outputs": [
        {
          "output_type": "stream",
          "text": [
            "accuracy  0.7\n"
          ],
          "name": "stdout"
        }
      ]
    },
    {
      "cell_type": "code",
      "metadata": {
        "colab": {
          "base_uri": "https://localhost:8080/"
        },
        "id": "_995iNAQevlW",
        "outputId": "8fbcb77b-be53-45aa-802f-55fe813e123a"
      },
      "source": [
        "from sklearn.metrics import confusion_matrix\n",
        "\n",
        "print(confusion_matrix(ytest, ypred))"
      ],
      "execution_count": 20,
      "outputs": [
        {
          "output_type": "stream",
          "text": [
            "[[2 1 0 1]\n",
            " [0 6 1 1]\n",
            " [0 0 4 1]\n",
            " [0 0 1 2]]\n"
          ],
          "name": "stdout"
        }
      ]
    },
    {
      "cell_type": "markdown",
      "metadata": {
        "id": "hAP7gqUeyMiB"
      },
      "source": [
        "## References \n",
        "\n",
        "\n",
        "1.   https://medium.datadriveninvestor.com/how-to-use-the-4chan-json-api-with-python-building-a-dataset-for-machine-learning-part-1-ac36ad4c4be2\n",
        "2.   https://github.com/4chan/4chan-API/blob/master/pages/Catalog.md\n",
        "3.   https://scikit-learn.org/stable/modules/feature_selection.html\n",
        "\n"
      ]
    }
  ]
}